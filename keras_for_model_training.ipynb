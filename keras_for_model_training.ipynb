{
 "cells": [
  {
   "cell_type": "code",
   "execution_count": 16,
   "metadata": {},
   "outputs": [],
   "source": [
    "import tensorflow as tf\n",
    "from tensorflow import keras\n",
    "import numpy as np\n",
    "\n",
    "class SimpleDense(keras.layers.Layer):\n",
    "    \"\"\"\n",
    "    An example implementation of a dense layer\n",
    "    \"\"\"\n",
    "    def __init__(self, units, activation=None):\n",
    "        super().__init__()\n",
    "        self.units = units\n",
    "        self.activation = activation\n",
    "    \n",
    "    def build(self, input_shape):\n",
    "        input_dim = input_shape[-1]\n",
    "        # Initialise weights\n",
    "        self.W = self.add_weight(shape=(input_dim, self.units),\n",
    "                                 initializer=\"random_normal\")\n",
    "        self.b = self.add_weight(shape=(self.units,),\n",
    "                                 initializer=\"zeros\")\n",
    "    \n",
    "    def call(self, inputs):\n",
    "        y = tf.matmul(inputs, self.W) + self.b\n",
    "        if self.activation is not None:\n",
    "            y=self.activation(y)\n",
    "        return y"
   ]
  },
  {
   "cell_type": "code",
   "execution_count": 17,
   "metadata": {},
   "outputs": [],
   "source": [
    "new_dense_layer = SimpleDense(units=32, activation=tf.nn.relu)\n",
    "# Start out with just ones\n",
    "input_tensor = tf.ones(shape=(2, 724))\n",
    "output_tensor = new_dense_layer(input_tensor)"
   ]
  },
  {
   "cell_type": "code",
   "execution_count": 43,
   "metadata": {},
   "outputs": [
    {
     "name": "stdout",
     "output_type": "stream",
     "text": [
      "Epoch 1/10\n",
      "1/1 [==============================] - 1s 531ms/step - loss: 1.3415 - accuracy: 0.1000 - val_loss: 1.3000 - val_accuracy: 0.1067\n",
      "Epoch 2/10\n",
      "1/1 [==============================] - 0s 30ms/step - loss: 1.3000 - accuracy: 0.1067 - val_loss: 1.2707 - val_accuracy: 0.1133\n",
      "Epoch 3/10\n",
      "1/1 [==============================] - 0s 40ms/step - loss: 1.2707 - accuracy: 0.1133 - val_loss: 1.2465 - val_accuracy: 0.1133\n",
      "Epoch 4/10\n",
      "1/1 [==============================] - 0s 37ms/step - loss: 1.2465 - accuracy: 0.1133 - val_loss: 1.2254 - val_accuracy: 0.1200\n",
      "Epoch 5/10\n",
      "1/1 [==============================] - 0s 49ms/step - loss: 1.2254 - accuracy: 0.1200 - val_loss: 1.2063 - val_accuracy: 0.1200\n",
      "Epoch 6/10\n",
      "1/1 [==============================] - 0s 47ms/step - loss: 1.2063 - accuracy: 0.1200 - val_loss: 1.1886 - val_accuracy: 0.1267\n",
      "Epoch 7/10\n",
      "1/1 [==============================] - 0s 40ms/step - loss: 1.1886 - accuracy: 0.1267 - val_loss: 1.1721 - val_accuracy: 0.1300\n",
      "Epoch 8/10\n",
      "1/1 [==============================] - 0s 43ms/step - loss: 1.1721 - accuracy: 0.1300 - val_loss: 1.1564 - val_accuracy: 0.1300\n",
      "Epoch 9/10\n",
      "1/1 [==============================] - 0s 41ms/step - loss: 1.1564 - accuracy: 0.1300 - val_loss: 1.1415 - val_accuracy: 0.1333\n",
      "Epoch 10/10\n",
      "1/1 [==============================] - 0s 48ms/step - loss: 1.1415 - accuracy: 0.1333 - val_loss: 1.1271 - val_accuracy: 0.1433\n",
      "3/3 [==============================] - 0s 4ms/step - loss: 1.1271 - accuracy: 0.1433\n"
     ]
    },
    {
     "data": {
      "text/plain": [
       "[1.1271132230758667, 0.1433333307504654]"
      ]
     },
     "execution_count": 43,
     "metadata": {},
     "output_type": "execute_result"
    }
   ],
   "source": [
    "# Define a new Keras model with a single dense layer\n",
    "model = keras.Sequential([keras.layers.Dense(1)])\n",
    "\n",
    "# Tell the model which loss function to use, how to optimise it, and what \n",
    "# accuracy measure to feed back to the human\n",
    "model.compile(optimizer=\"rmsprop\",\n",
    "              loss=\"mean_squared_error\",\n",
    "              metrics=[\"accuracy\"])\n",
    "\n",
    "# Fit the model to your data, defining how many epochs to run for, and how large\n",
    "# each tested batch should be\n",
    "inputs = np.random.rand(1000,10)\n",
    "targets = np.ones((1000,))\n",
    "\n",
    "# Shuffle the inputs so the validation data is a random sample\n",
    "indices_permutation = np.random.permutation(len(inputs))\n",
    "shuffled_inputs = inputs[indices_permutation]\n",
    "shuffled_targets = targets[indices_permutation]\n",
    "\n",
    "# Validation set is a third of the data\n",
    "num_validation_samples = int(0.3 * len(inputs))\n",
    "val_inputs = shuffled_inputs[:num_validation_samples]\n",
    "val_targets = shuffled_targets[:num_validation_samples]\n",
    "training_inputs = shuffled_inputs[:num_validation_samples]\n",
    "training_targets = shuffled_targets[:num_validation_samples]\n",
    "\n",
    "# Fit the model to the data - generate weights (W and b in this case)\n",
    "history = model.fit(training_inputs, \n",
    "                    training_targets, \n",
    "                    epochs=10, \n",
    "                    batch_size=500,\n",
    "                    validation_data = (val_inputs, val_targets))\n",
    "\n",
    "# Print the loss function on the validation set and the metrics, if you have any\n",
    "model.evaluate(val_inputs, val_targets, batch_size = 128)"
   ]
  },
  {
   "cell_type": "code",
   "execution_count": 44,
   "metadata": {},
   "outputs": [
    {
     "name": "stdout",
     "output_type": "stream",
     "text": [
      "3/3 [==============================] - 0s 2ms/step\n"
     ]
    }
   ],
   "source": [
    "# Make predictions on new data, processing it in batches\n",
    "predictions = model.predict(val_inputs, batch_size=128)\n",
    "print(predictions[:10])"
   ]
  }
 ],
 "metadata": {
  "kernelspec": {
   "display_name": "Python 3.8.10 ('venv': venv)",
   "language": "python",
   "name": "python3"
  },
  "language_info": {
   "codemirror_mode": {
    "name": "ipython",
    "version": 3
   },
   "file_extension": ".py",
   "mimetype": "text/x-python",
   "name": "python",
   "nbconvert_exporter": "python",
   "pygments_lexer": "ipython3",
   "version": "3.8.10"
  },
  "orig_nbformat": 4,
  "vscode": {
   "interpreter": {
    "hash": "4a884ecc490e5025efb18ad7319dd5a3bac80752f20fc54aa735d328a5658624"
   }
  }
 },
 "nbformat": 4,
 "nbformat_minor": 2
}
